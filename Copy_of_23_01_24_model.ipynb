{
  "nbformat": 4,
  "nbformat_minor": 0,
  "metadata": {
    "colab": {
      "provenance": [],
      "gpuType": "T4",
      "mount_file_id": "1xk_DR92f0xmzAaqJAsFg13kqf52x1Q7T",
      "authorship_tag": "ABX9TyNh69uA2wCcfEewSxG506dl",
      "include_colab_link": true
    },
    "kernelspec": {
      "name": "python3",
      "display_name": "Python 3"
    },
    "language_info": {
      "name": "python"
    },
    "accelerator": "GPU"
  },
  "cells": [
    {
      "cell_type": "markdown",
      "metadata": {
        "id": "view-in-github",
        "colab_type": "text"
      },
      "source": [
        "<a href=\"https://colab.research.google.com/github/dsk-003/Air-Quality/blob/main/Copy_of_23_01_24_model.ipynb\" target=\"_parent\"><img src=\"https://colab.research.google.com/assets/colab-badge.svg\" alt=\"Open In Colab\"/></a>"
      ]
    },
    {
      "cell_type": "code",
      "source": [],
      "metadata": {
        "id": "Gbw84akcz3jD"
      },
      "execution_count": null,
      "outputs": []
    },
    {
      "cell_type": "code",
      "source": [
        "!pip install spacy-transformers"
      ],
      "metadata": {
        "id": "PG-D8LHt0yAC"
      },
      "execution_count": null,
      "outputs": []
    },
    {
      "cell_type": "code",
      "source": [
        "from google.colab import drive\n",
        "drive.mount('/content/drive')"
      ],
      "metadata": {
        "colab": {
          "base_uri": "https://localhost:8080/"
        },
        "id": "bUm15BGLVa5X",
        "outputId": "00dac369-52ef-4f16-95b6-037ebbb97c7b"
      },
      "execution_count": null,
      "outputs": [
        {
          "output_type": "stream",
          "name": "stdout",
          "text": [
            "Mounted at /content/drive\n"
          ]
        }
      ]
    },
    {
      "cell_type": "code",
      "source": [
        "!pip install -U spacy\n",
        "import spacy\n"
      ],
      "metadata": {
        "id": "jwCv33pB0z_h"
      },
      "execution_count": null,
      "outputs": []
    },
    {
      "cell_type": "code",
      "source": [
        "\n",
        "spacy.__version__"
      ],
      "metadata": {
        "colab": {
          "base_uri": "https://localhost:8080/",
          "height": 36
        },
        "id": "2nARJP8s1ATq",
        "outputId": "698a5a2b-7604-4cc0-91b3-09ce4bc8dec0"
      },
      "execution_count": null,
      "outputs": [
        {
          "output_type": "execute_result",
          "data": {
            "text/plain": [
              "'3.7.2'"
            ],
            "application/vnd.google.colaboratory.intrinsic+json": {
              "type": "string"
            }
          },
          "metadata": {},
          "execution_count": 4
        }
      ]
    },
    {
      "cell_type": "code",
      "source": [
        "!nvidia-smi"
      ],
      "metadata": {
        "colab": {
          "base_uri": "https://localhost:8080/"
        },
        "id": "B8uuCDzx1W2z",
        "outputId": "6f250157-78b7-47a1-a97e-e481ffd28019"
      },
      "execution_count": null,
      "outputs": [
        {
          "output_type": "stream",
          "name": "stdout",
          "text": [
            "Tue Jan 23 05:38:53 2024       \n",
            "+---------------------------------------------------------------------------------------+\n",
            "| NVIDIA-SMI 535.104.05             Driver Version: 535.104.05   CUDA Version: 12.2     |\n",
            "|-----------------------------------------+----------------------+----------------------+\n",
            "| GPU  Name                 Persistence-M | Bus-Id        Disp.A | Volatile Uncorr. ECC |\n",
            "| Fan  Temp   Perf          Pwr:Usage/Cap |         Memory-Usage | GPU-Util  Compute M. |\n",
            "|                                         |                      |               MIG M. |\n",
            "|=========================================+======================+======================|\n",
            "|   0  Tesla T4                       Off | 00000000:00:04.0 Off |                    0 |\n",
            "| N/A   43C    P8               9W /  70W |      3MiB / 15360MiB |      0%      Default |\n",
            "|                                         |                      |                  N/A |\n",
            "+-----------------------------------------+----------------------+----------------------+\n",
            "                                                                                         \n",
            "+---------------------------------------------------------------------------------------+\n",
            "| Processes:                                                                            |\n",
            "|  GPU   GI   CI        PID   Type   Process name                            GPU Memory |\n",
            "|        ID   ID                                                             Usage      |\n",
            "|=======================================================================================|\n",
            "|  No running processes found                                                           |\n",
            "+---------------------------------------------------------------------------------------+\n"
          ]
        }
      ]
    },
    {
      "cell_type": "code",
      "execution_count": null,
      "metadata": {
        "id": "oaMeM9QYz5lQ"
      },
      "outputs": [],
      "source": [
        "import json\n",
        "import spacy\n",
        "from spacy.tokens import DocBin\n",
        "from tqdm import tqdm"
      ]
    },
    {
      "cell_type": "code",
      "execution_count": null,
      "metadata": {
        "id": "E1OXNleizaeQ"
      },
      "outputs": [],
      "source": [
        "import json\n",
        "cv_data=json.load(open('/content/drive/MyDrive/23-01-24_model/manual.json','r'))"
      ]
    },
    {
      "cell_type": "code",
      "source": [
        "len(cv_data)"
      ],
      "metadata": {
        "colab": {
          "base_uri": "https://localhost:8080/"
        },
        "id": "3pV-irmf1GxS",
        "outputId": "8d6307b9-2a37-4dd4-a33c-7083cba5be6b"
      },
      "execution_count": null,
      "outputs": [
        {
          "output_type": "execute_result",
          "data": {
            "text/plain": [
              "19"
            ]
          },
          "metadata": {},
          "execution_count": 2
        }
      ]
    },
    {
      "cell_type": "code",
      "source": [
        "cv_data[0]"
      ],
      "metadata": {
        "colab": {
          "base_uri": "https://localhost:8080/"
        },
        "id": "4cc9NDLt1Ibc",
        "outputId": "27a2e517-8d89-4321-b261-13ef143571d8"
      },
      "execution_count": null,
      "outputs": [
        {
          "output_type": "execute_result",
          "data": {
            "text/plain": [
              "['Master Certification Data Science Worked Data Analyst Qualsquad Infotech pvt ltd 1 yearsDeep understanding statistical models Algorithm multivariateAnalysis Love learn field Data Science P R F L E E X P E R E N C E 917350443211 chavanpallavi125gmailcom linkedincominpallavinchavan kagglecompallavinchavan CONTACT Python  Packages  Numpy SciKit Learn Matplotlib Pandas Seaborn SQL Tableau Power BI Feature Selection Feature Engineering Tools Anaconda Visual Studio Machine LearninAlgorithms   Regression Linear Regression Ridge Lasso  Classification Logistic Regression Decision Tree Random Forest SVM K NN XGBoost  Clustering KMeans  Natural Language Processing NLP basics K L L DATA SCIENCE BUSINESS ANALYTICS SPARKS FOUNDATION  JUN 2021  PRESENT Data Collection Build model help broadcasters optimize content get maximum viewership Data Visualization Getting insights data Building Machine Learning Models forecasting Code Optimization DATA ANALYST QUALSQUAD INFOTECH PVT LTD  MAR 2019  AUG 2020 Understanding Business Requirements provide efficient solution Business Problem Data mining using welldefined standardized process measurement tool Analyzed data sets identify trends develop charts help Businesses make strategic decisions Implemented machine learning algorithms predictive analytics time series analysis segmentation text mining E U C N LOGMIEER NASHIK 6533 ELECTRICAL 20142017 GPAN 75 DIPLOMA ENTC 20112014 SSC 8945 SSC 20002011 P R J E C ADVANCE HOUSE PRICE PREDICTION EDA EXPLORATORY DATA ANALYSISEDA TITANIC DATASET TRAINING CERTIFICATION MASTER CERTIFICATION PROGRAM DATA SCIENCE SIMPLILEARN DATA VISUALIZATION R CERTIFIED SAS BASE PROGRAMMER DATA SCIENCE PYTHON R MACHINE LEARNING BID DATA HADOOP SPARK DEVELOPER PALLAVI CHAVAN N L  C E N',\n",
              " {'entities': [[41, 53, 'SKILLS'],\n",
              "   [81, 92, 'EXPERIENCE'],\n",
              "   [107, 156, 'SKILLS'],\n",
              "   [174, 186, 'SKILLS'],\n",
              "   [313, 396, 'SKILLS'],\n",
              "   [1734, 1748, 'NAME']]}]"
            ]
          },
          "metadata": {},
          "execution_count": 3
        }
      ]
    },
    {
      "cell_type": "code",
      "source": [
        "cv_data[1]"
      ],
      "metadata": {
        "colab": {
          "base_uri": "https://localhost:8080/"
        },
        "id": "1omcc_Ho1KVM",
        "outputId": "006dd318-42ec-4f26-db9e-5f91dd0bdf27"
      },
      "execution_count": null,
      "outputs": [
        {
          "output_type": "execute_result",
          "data": {
            "text/plain": [
              "['Sumit Singh EmailId sumit121singhgmailcom Contact 918375829395 skype Id  sumitsingh555 Skills  4 years experience product development  Experience Computer Vision NLP Machine Learning Deep Learning  Data Preparation Training model Model Evaluation Model Deployment  Image processing techniques using OpenCV  Experience Deep learning using Convolutional Neural Networks  CNN Recurrent Neural Network RNN BERT  Programming Language Python3  Frameworks Tensorflow keras PyTorch  Libraries OpenCV NLTK Sklearn  Experience perform operation GPU CPU  Algorithms CNN SVM Logistic Regression  Image Analysis Pattern Recognition  Show passion technologies cando attitude Experience Software Engineer Aug 2020 – March 2021 QuyTech Title – AI  ML Based Intelligent Video Advertisements Analysis Description implement tracking algorithms humans cars track car Human frame assign unique ID individual deep sort algorithm keep data memory old object detected frame algorithm assign old ID outcomes generated algorithm stored azure database data analysis business insights Technology – python3 OpenCV ImageProcessing Tensorflow Keras flask Title – Vmax Vision Description Build model detect Pupil image calculate PD Distance Technology – python3 OpenCV ImageProcessing Dlib Software Engineer Sept 2019 – June 2020 Skymet Weather Services Title  Palm Tree Count Description Oil palm trees important economic crops Malaysia tropical areas number oil palm trees plantation area important information predicting yield palm oil monitoring growing situation palm trees maximizing productivity etc Technology – OpenCV ImageProcessing Tensorflow Title – Text AutoTagging Description Able generate automatic tags documents Multiple Documents Support eg pptx docx txt xlsx csv process creating concise summary data computationally aim summarization include important relevant information text data Technology – NLPNLTK BAG Software Engineer Jul 2016 – Jul 2019 BlueApple Technologies Title – Face Recognition Description Working Face Recognition Loyalty train classifier dataset  Real Time Face Recognition System  Real Time Custom Objects Detection Tensorflow  Understanding business problems analyzing data using appropriate Statistical models generate insights Title – ChatBot Hospitality Reviews Program Description Chatbot technology improved rapidly past years gaining popularity across Hospitality Industry purpose chatbot mimic kind meaningful interactions customer might real employee usually text kind digital customer service agent responding queries providing useful information even answering specific questions  Data mining techniques education  Creating supporting data management workflow data collection storage analysis  Collecting Education base Data set clean manipulate data Education  Master Computer Application 76 marks Galgotias University 2016  Bachelor Computer Application 75 marks Swami Vivekanand Subharti University 2013',\n",
              " {'entities': [[0, 11, 'NAME'],\n",
              "   [95, 102, 'EXPERIENCE'],\n",
              "   [144, 618, 'SKILLS']]}]"
            ]
          },
          "metadata": {},
          "execution_count": 4
        }
      ]
    },
    {
      "cell_type": "code",
      "source": [
        "type(cv_data)"
      ],
      "metadata": {
        "colab": {
          "base_uri": "https://localhost:8080/"
        },
        "id": "btnf46r61NxW",
        "outputId": "8297d9e5-7de3-436d-af35-bec0d340b732"
      },
      "execution_count": null,
      "outputs": [
        {
          "output_type": "execute_result",
          "data": {
            "text/plain": [
              "list"
            ]
          },
          "metadata": {},
          "execution_count": 5
        }
      ]
    },
    {
      "cell_type": "code",
      "source": [
        "import spacy_transformers"
      ],
      "metadata": {
        "id": "4uzMIb1B18Ip"
      },
      "execution_count": null,
      "outputs": []
    },
    {
      "cell_type": "code",
      "source": [
        "from transformers import AutoTokenizer, RobertaModel\n",
        "import torch\n",
        "\n",
        "tokenizer = AutoTokenizer.from_pretrained(\"roberta-base\")\n",
        "model = RobertaModel.from_pretrained(\"roberta-base\")"
      ],
      "metadata": {
        "id": "qosoYuZ51_2q"
      },
      "execution_count": null,
      "outputs": []
    },
    {
      "cell_type": "code",
      "source": [
        "!python -m spacy init fill-config /content/drive/MyDrive/23-01-24_model/base_config.cfg config.cfg"
      ],
      "metadata": {
        "colab": {
          "base_uri": "https://localhost:8080/"
        },
        "id": "8LPvx0nH2FDR",
        "outputId": "d0e04cf0-bd7c-4370-a5dc-86eb66415af1"
      },
      "execution_count": null,
      "outputs": [
        {
          "output_type": "stream",
          "name": "stdout",
          "text": [
            "2024-01-23 06:05:31.892757: E external/local_xla/xla/stream_executor/cuda/cuda_dnn.cc:9261] Unable to register cuDNN factory: Attempting to register factory for plugin cuDNN when one has already been registered\n",
            "2024-01-23 06:05:31.892916: E external/local_xla/xla/stream_executor/cuda/cuda_fft.cc:607] Unable to register cuFFT factory: Attempting to register factory for plugin cuFFT when one has already been registered\n",
            "2024-01-23 06:05:31.894699: E external/local_xla/xla/stream_executor/cuda/cuda_blas.cc:1515] Unable to register cuBLAS factory: Attempting to register factory for plugin cuBLAS when one has already been registered\n",
            "2024-01-23 06:05:33.543877: W tensorflow/compiler/tf2tensorrt/utils/py_utils.cc:38] TF-TRT Warning: Could not find TensorRT\n",
            "\u001b[38;5;2m✔ Auto-filled config with all values\u001b[0m\n",
            "\u001b[38;5;2m✔ Saved config\u001b[0m\n",
            "config.cfg\n",
            "You can now add your data and train your pipeline:\n",
            "python -m spacy train config.cfg --paths.train ./train.spacy --paths.dev ./dev.spacy\n"
          ]
        }
      ]
    },
    {
      "cell_type": "code",
      "source": [
        "def get_spacy_doc(file,data):\n",
        "  nlp = spacy.blank('en')\n",
        "  db = DocBin()\n",
        "\n",
        "  for text,annot in tqdm(data):\n",
        "    doc = nlp.make_doc(text)\n",
        "    annot = annot['entities']\n",
        "\n",
        "    ents = []\n",
        "    entity_indices = []\n",
        "\n",
        "    for start, end, label in annot:\n",
        "      skip_entity = False\n",
        "      for idx in range(start, end):\n",
        "        if idx in entity_indices:\n",
        "          skip_entity = True\n",
        "          break\n",
        "      if skip_entity==True:\n",
        "        continue\n",
        "\n",
        "      entity_indices = entity_indices + list(range(start, end))\n",
        "\n",
        "      try:\n",
        "        span = doc.char_span(start, end, label=label, alignment_mode='strict')\n",
        "\n",
        "      except:\n",
        "        continue\n",
        "\n",
        "      if span is None:\n",
        "        err_data = str([start, end]) + \"     \" + str(text)  + \"\\n\"\n",
        "        file.write(err_data)\n",
        "\n",
        "      else:\n",
        "        ents.append(span)\n",
        "\n",
        "    try:\n",
        "      doc.ents = ents\n",
        "      db.add(doc)\n",
        "    except:\n",
        "      pass\n",
        "\n",
        "  return db"
      ],
      "metadata": {
        "id": "-I89e5Kv2UKK"
      },
      "execution_count": null,
      "outputs": []
    },
    {
      "cell_type": "code",
      "source": [
        "from sklearn.model_selection import train_test_split\n",
        "import spacy\n",
        "train,test = train_test_split(cv_data, test_size=0.2)"
      ],
      "metadata": {
        "id": "NTNDVTrs7iid"
      },
      "execution_count": null,
      "outputs": []
    },
    {
      "cell_type": "code",
      "source": [
        "len(train),len(test)"
      ],
      "metadata": {
        "colab": {
          "base_uri": "https://localhost:8080/"
        },
        "id": "jQkk22rZ7m7j",
        "outputId": "b4df84eb-b0f7-4828-f989-47b805811839"
      },
      "execution_count": null,
      "outputs": [
        {
          "output_type": "execute_result",
          "data": {
            "text/plain": [
              "(15, 4)"
            ]
          },
          "metadata": {},
          "execution_count": 14
        }
      ]
    },
    {
      "cell_type": "code",
      "source": [
        "file = open('error.txt','w')\n",
        "\n",
        "db = get_spacy_doc(file,train)\n",
        "db.to_disk('train_data.spacy')\n",
        "\n",
        "\n",
        "db = get_spacy_doc(file,test)\n",
        "db.to_disk('test_data.spacy')\n",
        "\n",
        "file.close()"
      ],
      "metadata": {
        "colab": {
          "base_uri": "https://localhost:8080/"
        },
        "id": "Dzo93rtr7pNb",
        "outputId": "bd26e491-5818-4c23-e6e5-5fb5d586083b"
      },
      "execution_count": null,
      "outputs": [
        {
          "output_type": "stream",
          "name": "stderr",
          "text": [
            "100%|██████████| 15/15 [00:00<00:00, 45.41it/s]\n",
            "100%|██████████| 4/4 [00:00<00:00, 33.64it/s]\n"
          ]
        }
      ]
    },
    {
      "cell_type": "code",
      "source": [
        "len(db.tokens)"
      ],
      "metadata": {
        "colab": {
          "base_uri": "https://localhost:8080/"
        },
        "id": "vWjsQ2iG7ub_",
        "outputId": "a260335f-35d2-4e67-d580-488a035e04cf"
      },
      "execution_count": null,
      "outputs": [
        {
          "output_type": "execute_result",
          "data": {
            "text/plain": [
              "4"
            ]
          },
          "metadata": {},
          "execution_count": 16
        }
      ]
    },
    {
      "cell_type": "code",
      "source": [
        "!python -m spacy train /content/config.cfg --output ./output --paths.train ./train_data.spacy --paths.dev ./test_data.spacy --gpu-id 0"
      ],
      "metadata": {
        "colab": {
          "base_uri": "https://localhost:8080/"
        },
        "id": "F9tkBr-Q7zLa",
        "outputId": "fb398053-8e89-49e0-eede-5ee015bdb400"
      },
      "execution_count": null,
      "outputs": [
        {
          "output_type": "stream",
          "name": "stdout",
          "text": [
            "2024-01-23 06:09:49.377184: E external/local_xla/xla/stream_executor/cuda/cuda_dnn.cc:9261] Unable to register cuDNN factory: Attempting to register factory for plugin cuDNN when one has already been registered\n",
            "2024-01-23 06:09:49.377248: E external/local_xla/xla/stream_executor/cuda/cuda_fft.cc:607] Unable to register cuFFT factory: Attempting to register factory for plugin cuFFT when one has already been registered\n",
            "2024-01-23 06:09:49.379075: E external/local_xla/xla/stream_executor/cuda/cuda_blas.cc:1515] Unable to register cuBLAS factory: Attempting to register factory for plugin cuBLAS when one has already been registered\n",
            "2024-01-23 06:09:52.209645: W tensorflow/compiler/tf2tensorrt/utils/py_utils.cc:38] TF-TRT Warning: Could not find TensorRT\n",
            "\u001b[38;5;2m✔ Created output directory: output\u001b[0m\n",
            "\u001b[38;5;4mℹ Saving to output directory: output\u001b[0m\n",
            "\u001b[38;5;4mℹ Using GPU: 0\u001b[0m\n",
            "\u001b[1m\n",
            "=========================== Initializing pipeline ===========================\u001b[0m\n",
            "Some weights of RobertaModel were not initialized from the model checkpoint at roberta-base and are newly initialized: ['roberta.pooler.dense.bias', 'roberta.pooler.dense.weight']\n",
            "You should probably TRAIN this model on a down-stream task to be able to use it for predictions and inference.\n",
            "\u001b[38;5;2m✔ Initialized pipeline\u001b[0m\n",
            "\u001b[1m\n",
            "============================= Training pipeline =============================\u001b[0m\n",
            "\u001b[38;5;4mℹ Pipeline: ['transformer', 'ner']\u001b[0m\n",
            "\u001b[38;5;4mℹ Initial learn rate: 0.0\u001b[0m\n",
            "E    #       LOSS TRANS...  LOSS NER  ENTS_F  ENTS_P  ENTS_R  SCORE \n",
            "---  ------  -------------  --------  ------  ------  ------  ------\n",
            "  0       0        3850.21    745.60    0.00    0.00    0.00    0.00\n",
            " 40     200      153043.17  34279.67   15.38   20.00   12.50    0.15\n",
            " 80     400        1169.90  12761.21   16.67   25.00   12.50    0.17\n",
            "120     600           5.71  12145.41   16.67   25.00   12.50    0.17\n",
            "160     800           0.00  11577.54   16.67   25.00   12.50    0.17\n",
            "200    1000           0.00  11004.76   16.67   25.00   12.50    0.17\n",
            "240    1200         906.94  10541.95   10.53    9.09   12.50    0.11\n",
            "280    1400          51.22   9815.42   15.38   20.00   12.50    0.15\n",
            "320    1600           6.87   9037.45   15.38   20.00   12.50    0.15\n",
            "360    1800           0.00   8256.59   15.38   20.00   12.50    0.15\n",
            "400    2000           0.00   7430.50   15.38   20.00   12.50    0.15\n",
            "\u001b[38;5;2m✔ Saved pipeline to output directory\u001b[0m\n",
            "output/model-last\n"
          ]
        }
      ]
    },
    {
      "cell_type": "markdown",
      "source": [
        "### Model Test"
      ],
      "metadata": {
        "id": "6inIoOZtE81r"
      }
    },
    {
      "cell_type": "code",
      "source": [
        "nlp = spacy.load('/content/output/model-best')"
      ],
      "metadata": {
        "id": "g37_4-l78Fl0"
      },
      "execution_count": null,
      "outputs": []
    },
    {
      "cell_type": "code",
      "source": [
        "doc = nlp(' my name is Ritika Ritesh Jadhav my skillset is expert in python, machine learning, data analysis,deep learning,NLP,SQL,Generative ai etc ')\n",
        "\n",
        "for ent in doc.ents:\n",
        "  print(ent.text, \"->>>>\",ent.label_)"
      ],
      "metadata": {
        "colab": {
          "base_uri": "https://localhost:8080/"
        },
        "id": "4rgq6RQlFBtv",
        "outputId": "95f531d0-75b7-46e6-fec4-dde61424bded"
      },
      "execution_count": null,
      "outputs": [
        {
          "output_type": "stream",
          "name": "stdout",
          "text": [
            "Ritika Ritesh ->>>> NAME\n",
            "python, machine learning, data analysis,deep learning,NLP,SQL,Generative ai etc ->>>> SKILLS\n"
          ]
        }
      ]
    },
    {
      "cell_type": "code",
      "source": [
        "import sys, fitz"
      ],
      "metadata": {
        "id": "--_P7IfPGa0B"
      },
      "execution_count": null,
      "outputs": []
    },
    {
      "cell_type": "code",
      "source": [
        "!pip install PyMuPDF\n"
      ],
      "metadata": {
        "id": "4OZA3FeeFWr_"
      },
      "execution_count": null,
      "outputs": []
    },
    {
      "cell_type": "code",
      "source": [
        "fname = '/content/drive/MyDrive/23-01-24_model/Resume (1).pdf'"
      ],
      "metadata": {
        "id": "7XeX_3NPFgdH"
      },
      "execution_count": null,
      "outputs": []
    },
    {
      "cell_type": "code",
      "source": [
        "doc = fitz.open(fname)\n",
        "doc"
      ],
      "metadata": {
        "colab": {
          "base_uri": "https://localhost:8080/"
        },
        "id": "G49lSnzbGVsL",
        "outputId": "f099c528-5f2d-4f79-c27d-63c30f893b35"
      },
      "execution_count": null,
      "outputs": [
        {
          "output_type": "execute_result",
          "data": {
            "text/plain": [
              "Document('/content/drive/MyDrive/23-01-24_model/Resume (1).pdf')"
            ]
          },
          "metadata": {},
          "execution_count": 38
        }
      ]
    },
    {
      "cell_type": "code",
      "source": [
        "text = \" \"\n",
        "for page in doc:\n",
        "  text = text + str(page.get_text())"
      ],
      "metadata": {
        "id": "h0NIZIlHGX_z"
      },
      "execution_count": null,
      "outputs": []
    },
    {
      "cell_type": "code",
      "source": [
        "text = ' '.join(text.split())\n",
        "text"
      ],
      "metadata": {
        "colab": {
          "base_uri": "https://localhost:8080/",
          "height": 251
        },
        "id": "0R2B-ReOGiVQ",
        "outputId": "111ff31c-4e52-471b-8ff7-5d5254589644"
      },
      "execution_count": null,
      "outputs": [
        {
          "output_type": "execute_result",
          "data": {
            "text/plain": [
              "'Naman Grover +91 8700710350 / ngrover.241@gmail.com / Delhi, India / LinkedIn Knowledgeable in various avenues of Machine Learning. Ability to develop suitable Product Codes and Algorithms. Proactive with a problem-solving attitude. Ability to build innovative AI solutions for real-life concerns. WORK EXPERIENCE Asmadiya Technologies - AI/ML Engineer Jan 2021 – April 2021 / Pune, India • Researched, prototyped, built features and optimized the state-of-the-art deep learning techniques like sequence to sequence, LSTMs and attention using scikit-learn, keras and tensorflow for english-french machine translation. • Applied various transfer-learning techniques using pre-trained word-embeddings like Glove, Bert, Universal Sentence Encoder for text similarity tasks. • Developed text mining pipelines to analyze large unstructured datasets with Latent Dirichlet Allocation (LDA), text classification and sentiment analysis. • Collaborated with colleagues and executed other duties as assigned by the managers. BlackNet - Machine Learning Engineer Dec 2019 – Nov 2020 / New Delhi, India • Applied Machine Learning and statistical modelling techniques to develop and evaluate algorithms to improve performance, quality, data management and accuracy. • Steered rapid model creation in python using pandas, numpy, scikit-learn and plotly for data visualization. • Created multivariate-regression based attribution models and segmentation models using k-means clustering. • Interpreted twitter data and analyzed results using statistical and data visualization techniques to provide insights about the impact of covid-19 on people in India. Udyatmat MA Viramavsa Pvt. Ltd. - Deep Learning Engineer Intern July 2019 – Aug 2019 / Delhi, India • Collected all assigned charts / data from scratch. • Performed object detection using single shot multi-box detector. • Applied image enhancement operations like contrast, sharpening, scaling and affine transformation to get the meaningful data from the image. • Implemented different CNN architectures like sequence of convolutions, pooling, activation functions to improve the accuracy. Geeksforgeeks – Technical Content Writing Intern May 2019 – Aug 2019 • Organized material to research and complete writing tasks. • Performed supervised research on technical content. • Researched and supported the development of technical manuals, publications, and logistics support documentation and logistics proposals. • Ensured technical verbiage is easy to understand. EDUCATION BACHELOR OF TECHNOLOGY IN COMPUTER SCIENCE Guru Gobind Singh Indraprastha University GPA – 8.3 2017 – 2021 / New Delhi, India SENIOR SECONDARY (PRE-ENGINEERING) St. Andrews Scots Sr. Sec. School Percentage – 92.6% 2015 – 2016 / Delhi, India SECONDARY St. Andrews Scots Sr. Sec. School CGPA – 9.4 2013 – 2014 / Delhi, India PROJECTS DETECTION OF CHILD PREDATORS AND CYBER HARASSERS ON SOCIAL MEDIA • Oversaw and laid out development of NLP models to combat Fake news, Hate speech, and Abuse. • Cleaned pre-existing data and trained deep learning model to detect abuse, traumatic and disturbing content in images and videos shared on social media. • Worked with multiple stakeholders to reduce the legal liabilities of models below the human level bias. AUTO CONTENT MODERATION FOR OTT PLATFORMS • Created an auto-content moderation system in order to generate family friendly tv shows and movies. • Developed integrated speech, text and vision systems which have the ability to suppress abusive sentences and blur out nude frames. • Used video classification model and CMU sphinx for Text to speech. SMART SEARCH USING ELASTICSEARCH • Utilized Elasticsearch in order to store and retrieve data that consists pre-existing set of Questions and Answers. • Applied Universal Sentence Encoder algorithm to generate semantically correct outputs. • Created a search as you type feature using Elasticsearch in order to generate the best results in very less time. SKILLS Programming Language: Python, C++; Tools and Frameworks: Pandas, Scikit-learn, Dash, Django, MySQL, Tensorflow, Tflite, Tensorboard, Huggingface; Data Science and Analytics: Numpy, Matplotlib, Seaborn, Pandas, Vaex, NLTK, Spacy ACHIEVEMENTS AND CERTIFICATIONS • Coding Blocks Classroom certification program in Machine Learning with python. • Coding Blocks Classroom certification program in Python for Developers course. • Google Explore ML Facilitator Certification. • Udemy Deep Learning-Learn with Tensor Flow and Python Certification. • Coursera certification in Natural Language Processing with Classification and Vector Spaces. • Secured 3rd position in HackGTBIT (2019). • Achieved rank 110 out of 35,000 in Analytics Vidhya sales prediction hackathon (2020). • Cleared Actuarial Common Entrance Test- 2019.'"
            ],
            "application/vnd.google.colaboratory.intrinsic+json": {
              "type": "string"
            }
          },
          "metadata": {},
          "execution_count": 40
        }
      ]
    },
    {
      "cell_type": "code",
      "source": [
        "doc = nlp(text)\n",
        "\n",
        "for ent in doc.ents:\n",
        "  print(ent.text, \"->>>>\",ent.label_)"
      ],
      "metadata": {
        "colab": {
          "base_uri": "https://localhost:8080/"
        },
        "id": "rI6amnn7GlTO",
        "outputId": "444d2601-a10f-4ffd-dcca-b4fd1ce9652a"
      },
      "execution_count": null,
      "outputs": [
        {
          "output_type": "stream",
          "name": "stdout",
          "text": [
            "Naman Grover ->>>> NAME\n",
            "numpy, scikit-learn and plotly for data visualization ->>>> SKILLS\n",
            "SKILLS Programming Language: Python, C++; Tools and Frameworks: Pandas, Scikit-learn, Dash, Django, MySQL, Tensorflow, Tflite, Tensorboard, Huggingface; Data Science and Analytics: Numpy, Matplotlib, Seaborn, Pandas, Vaex, NLTK, Spacy ACHIEVEMENTS AND CERTIFICATIONS • Coding Blocks Classroom certification program in Machine Learning with python. • Coding Blocks Classroom certification program in Python for Developers course. • Google Explore ML Facilitator Certification. • Udemy Deep Learning-Learn with Tensor Flow and Python Certification. • Coursera certification in Natural Language Processing with Classification and Vector Spaces. • Secured 3rd position in HackGTBIT (2019). • Achieved rank 110 out of 35,000 in Analytics Vidhya sales prediction hackathon (2020). • Cleared Actuarial Common Entrance Test- 2019. ->>>> SKILLS\n"
          ]
        }
      ]
    },
    {
      "cell_type": "code",
      "source": [],
      "metadata": {
        "id": "ELcUz3fsG3NQ"
      },
      "execution_count": null,
      "outputs": []
    }
  ]
}